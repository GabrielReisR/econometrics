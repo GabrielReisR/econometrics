{
 "cells": [
  {
   "cell_type": "markdown",
   "id": "married-lithuania",
   "metadata": {},
   "source": [
    "### Importing initial libraries"
   ]
  },
  {
   "cell_type": "code",
   "execution_count": 2,
   "id": "alert-threshold",
   "metadata": {},
   "outputs": [],
   "source": [
    "import investpy as inv\n",
    "import matplotlib\n",
    "import matplotlib.pyplot as plt\n",
    "matplotlib.rcParams['figure.figsize'] = (16, 8)\n",
    "import pandas as pd\n",
    "%config Completer.use_jedi = False # this speeds up autocomplete"
   ]
  },
  {
   "cell_type": "markdown",
   "id": "superb-chance",
   "metadata": {},
   "source": [
    "### Initial search from Banco Central"
   ]
  },
  {
   "cell_type": "code",
   "execution_count": 67,
   "id": "unable-roberts",
   "metadata": {},
   "outputs": [],
   "source": [
    "'''\n",
    "Code from: https://www.youtube.com/watch?v=7rFsu48oBn8&list=PLCAhGm8nJ9CBn51o0x3j1p1LuMRqpeqCy\n",
    "I added the arguments 'data_inicio' and 'data_final' to help filtering the data.\n",
    "''' \n",
    "\n",
    "# Creating scraping code\n",
    "def consulta_bc(codigo_bcb, data_inicio = '2014-01-01', data_final = '2021-01-01'):\n",
    "  url = 'http://api.bcb.gov.br/dados/serie/bcdata.sgs.{}/dados?formato=json'.format(codigo_bcb)\n",
    "  df = pd.read_json(url)\n",
    "  df['data'] = pd.to_datetime(df['data'], dayfirst=True)\n",
    "  df.set_index('data', inplace=True)\n",
    "  df = df[df.index >= data_inicio]\n",
    "  return df[df.index < data_final]"
   ]
  },
  {
   "cell_type": "markdown",
   "id": "mineral-cricket",
   "metadata": {},
   "source": [
    "### Downloading data"
   ]
  },
  {
   "cell_type": "markdown",
   "id": "reduced-employer",
   "metadata": {},
   "source": [
    "#### Indexes and national interest fees"
   ]
  },
  {
   "cell_type": "code",
   "execution_count": 118,
   "id": "powered-spectacular",
   "metadata": {},
   "outputs": [],
   "source": [
    "# Inflation index\n",
    "ipca = consulta_bc(433)"
   ]
  },
  {
   "cell_type": "code",
   "execution_count": 69,
   "id": "dominant-panel",
   "metadata": {
    "scrolled": false
   },
   "outputs": [],
   "source": [
    "# Civil construction index\n",
    "incc = consulta_bc(7462)"
   ]
  },
  {
   "cell_type": "code",
   "execution_count": 90,
   "id": "black-notion",
   "metadata": {},
   "outputs": [],
   "source": [
    "# CDI - Interbank deposit credit monthly\n",
    "cdi = consulta_bc(4391)"
   ]
  },
  {
   "cell_type": "code",
   "execution_count": 71,
   "id": "fixed-campbell",
   "metadata": {},
   "outputs": [],
   "source": [
    "# Vacancy index\n",
    "desocup = consulta_bc(24369)"
   ]
  },
  {
   "cell_type": "code",
   "execution_count": 72,
   "id": "premier-midwest",
   "metadata": {},
   "outputs": [],
   "source": [
    "# Commodities energy index\n",
    "energia_index_commodity = consulta_bc(27577)"
   ]
  },
  {
   "cell_type": "markdown",
   "id": "secondary-finding",
   "metadata": {},
   "source": [
    "#### Civil construction"
   ]
  },
  {
   "cell_type": "code",
   "execution_count": 73,
   "id": "behavioral-study",
   "metadata": {},
   "outputs": [],
   "source": [
    "# Index of expenditures in civil construction\n",
    "index_insumos_da_constr_civil = consulta_bc(21868)"
   ]
  },
  {
   "cell_type": "code",
   "execution_count": 74,
   "id": "connected-reset",
   "metadata": {},
   "outputs": [],
   "source": [
    "# Expenditures in civil construction\n",
    "insumos_da_constr_civil = consulta_bc(22761)"
   ]
  },
  {
   "cell_type": "code",
   "execution_count": 75,
   "id": "stuffed-financing",
   "metadata": {},
   "outputs": [],
   "source": [
    "# Credit operations in civil construction\n",
    "op_de_credito_na_contr_civil = consulta_bc(22030)"
   ]
  },
  {
   "cell_type": "code",
   "execution_count": 76,
   "id": "elementary-blast",
   "metadata": {},
   "outputs": [],
   "source": [
    "# Index of formal employment in civil construction\n",
    "empregos_construcao_civil = consulta_bc(25255)"
   ]
  },
  {
   "cell_type": "code",
   "execution_count": 77,
   "id": "serial-mixer",
   "metadata": {},
   "outputs": [],
   "source": [
    "# Expenditures in construction materials\n",
    "gastos_materiais_construcao = consulta_bc(28484)"
   ]
  },
  {
   "cell_type": "markdown",
   "id": "uniform-sessions",
   "metadata": {},
   "source": [
    "#### Energy indices"
   ]
  },
  {
   "cell_type": "code",
   "execution_count": 79,
   "id": "concerned-addiction",
   "metadata": {},
   "outputs": [],
   "source": [
    "# Comercial energy consumption in GWh\n",
    "consumo_energia_comercial = consulta_bc(1402)"
   ]
  },
  {
   "cell_type": "code",
   "execution_count": 80,
   "id": "prospective-palace",
   "metadata": {},
   "outputs": [],
   "source": [
    "# Residential energy consumption in GWh\n",
    "consumo_energia_residencial = consulta_bc(1403)"
   ]
  },
  {
   "cell_type": "code",
   "execution_count": 81,
   "id": "contemporary-interval",
   "metadata": {},
   "outputs": [],
   "source": [
    "# Industrial energy consumption in GWh\n",
    "consumo_energia_industrial = consulta_bc(1404)"
   ]
  },
  {
   "cell_type": "code",
   "execution_count": 82,
   "id": "experimental-waters",
   "metadata": {},
   "outputs": [],
   "source": [
    "# Others energy consumption in GWh\n",
    "consumo_energia_outros = consulta_bc(1405)"
   ]
  },
  {
   "cell_type": "code",
   "execution_count": 83,
   "id": "latter-survey",
   "metadata": {},
   "outputs": [],
   "source": [
    "# Total energy consumption in GWh\n",
    "consumo_energia_total = consulta_bc(1406)"
   ]
  },
  {
   "cell_type": "markdown",
   "id": "phantom-exclusive",
   "metadata": {},
   "source": [
    "### Joining data"
   ]
  },
  {
   "cell_type": "code",
   "execution_count": 138,
   "id": "allied-caribbean",
   "metadata": {},
   "outputs": [],
   "source": [
    "interest_data = pd.DataFrame()\n",
    "\n",
    "# Indexes and national interest fees\n",
    "interest_data['ipca'] = ipca['valor']\n",
    "interest_data['incc'] = incc['valor']\n",
    "interest_data['cdi'] = cdi['valor']\n",
    "interest_data['desocup'] = desocup['valor']\n",
    "interest_data['energia_index_commodity'] = energia_index_commodity['valor']\n",
    "\n",
    "# Civil construction\n",
    "interest_data['index_insumos_da_constr_civil'] = index_insumos_da_constr_civil['valor']\n",
    "interest_data['insumos_da_constr_civil'] = insumos_da_constr_civil['valor']\n",
    "interest_data['op_de_credito_na_contr_civil'] = op_de_credito_na_contr_civil['valor']\n",
    "interest_data['empregos_construcao_civil'] = empregos_construcao_civil['valor']\n",
    "interest_data['gastos_materiais_construcao'] = gastos_materiais_construcao['valor']\n",
    "\n",
    "# Energy indices\n",
    "interest_data['consumo_energia_comercial'] = consumo_energia_comercial['valor']\n",
    "interest_data['consumo_energia_residencial'] = consumo_energia_residencial['valor']\n",
    "interest_data['consumo_energia_industrial'] = consumo_energia_industrial['valor']\n",
    "interest_data['consumo_energia_outros'] = consumo_energia_outros['valor']\n",
    "interest_data['consumo_energia_total'] = consumo_energia_total['valor']"
   ]
  },
  {
   "cell_type": "code",
   "execution_count": 139,
   "id": "primary-treasurer",
   "metadata": {
    "scrolled": true
   },
   "outputs": [
    {
     "data": {
      "text/html": [
       "<div>\n",
       "<style scoped>\n",
       "    .dataframe tbody tr th:only-of-type {\n",
       "        vertical-align: middle;\n",
       "    }\n",
       "\n",
       "    .dataframe tbody tr th {\n",
       "        vertical-align: top;\n",
       "    }\n",
       "\n",
       "    .dataframe thead th {\n",
       "        text-align: right;\n",
       "    }\n",
       "</style>\n",
       "<table border=\"1\" class=\"dataframe\">\n",
       "  <thead>\n",
       "    <tr style=\"text-align: right;\">\n",
       "      <th></th>\n",
       "      <th>ipca</th>\n",
       "      <th>incc</th>\n",
       "      <th>cdi</th>\n",
       "      <th>desocup</th>\n",
       "      <th>energia_index_commodity</th>\n",
       "      <th>index_insumos_da_constr_civil</th>\n",
       "      <th>insumos_da_constr_civil</th>\n",
       "      <th>op_de_credito_na_contr_civil</th>\n",
       "      <th>empregos_construcao_civil</th>\n",
       "      <th>gastos_materiais_construcao</th>\n",
       "      <th>consumo_energia_comercial</th>\n",
       "      <th>consumo_energia_residencial</th>\n",
       "      <th>consumo_energia_industrial</th>\n",
       "      <th>consumo_energia_outros</th>\n",
       "      <th>consumo_energia_total</th>\n",
       "    </tr>\n",
       "    <tr>\n",
       "      <th>data</th>\n",
       "      <th></th>\n",
       "      <th></th>\n",
       "      <th></th>\n",
       "      <th></th>\n",
       "      <th></th>\n",
       "      <th></th>\n",
       "      <th></th>\n",
       "      <th></th>\n",
       "      <th></th>\n",
       "      <th></th>\n",
       "      <th></th>\n",
       "      <th></th>\n",
       "      <th></th>\n",
       "      <th></th>\n",
       "      <th></th>\n",
       "    </tr>\n",
       "  </thead>\n",
       "  <tbody>\n",
       "    <tr>\n",
       "      <th>2014-01-01</th>\n",
       "      <td>0.55</td>\n",
       "      <td>0.54</td>\n",
       "      <td>0.84</td>\n",
       "      <td>6.4</td>\n",
       "      <td>83.66</td>\n",
       "      <td>92.2</td>\n",
       "      <td>0.0</td>\n",
       "      <td>108183</td>\n",
       "      <td>254.31</td>\n",
       "      <td>101.4</td>\n",
       "      <td>7745.0</td>\n",
       "      <td>11798.0</td>\n",
       "      <td>14537.0</td>\n",
       "      <td>6471.0</td>\n",
       "      <td>40551.0</td>\n",
       "    </tr>\n",
       "    <tr>\n",
       "      <th>2014-02-01</th>\n",
       "      <td>0.69</td>\n",
       "      <td>0.62</td>\n",
       "      <td>0.78</td>\n",
       "      <td>6.7</td>\n",
       "      <td>85.28</td>\n",
       "      <td>93.2</td>\n",
       "      <td>36.6</td>\n",
       "      <td>109148</td>\n",
       "      <td>256.93</td>\n",
       "      <td>105.3</td>\n",
       "      <td>8204.0</td>\n",
       "      <td>11879.0</td>\n",
       "      <td>15107.0</td>\n",
       "      <td>6753.0</td>\n",
       "      <td>41944.0</td>\n",
       "    </tr>\n",
       "    <tr>\n",
       "      <th>2014-03-01</th>\n",
       "      <td>0.92</td>\n",
       "      <td>0.57</td>\n",
       "      <td>0.76</td>\n",
       "      <td>7.2</td>\n",
       "      <td>81.71</td>\n",
       "      <td>96.8</td>\n",
       "      <td>40.5</td>\n",
       "      <td>110389</td>\n",
       "      <td>257.05</td>\n",
       "      <td>101.5</td>\n",
       "      <td>7744.0</td>\n",
       "      <td>11289.0</td>\n",
       "      <td>15079.0</td>\n",
       "      <td>6386.0</td>\n",
       "      <td>40498.0</td>\n",
       "    </tr>\n",
       "    <tr>\n",
       "      <th>2014-04-01</th>\n",
       "      <td>0.67</td>\n",
       "      <td>0.77</td>\n",
       "      <td>0.82</td>\n",
       "      <td>7.1</td>\n",
       "      <td>79.89</td>\n",
       "      <td>94.0</td>\n",
       "      <td>24.4</td>\n",
       "      <td>112023</td>\n",
       "      <td>257.72</td>\n",
       "      <td>100.3</td>\n",
       "      <td>7588.0</td>\n",
       "      <td>10780.0</td>\n",
       "      <td>15260.0</td>\n",
       "      <td>6163.0</td>\n",
       "      <td>39792.0</td>\n",
       "    </tr>\n",
       "    <tr>\n",
       "      <th>2014-05-01</th>\n",
       "      <td>0.46</td>\n",
       "      <td>0.57</td>\n",
       "      <td>0.86</td>\n",
       "      <td>7.0</td>\n",
       "      <td>78.96</td>\n",
       "      <td>98.0</td>\n",
       "      <td>41.0</td>\n",
       "      <td>113985</td>\n",
       "      <td>258.24</td>\n",
       "      <td>100.8</td>\n",
       "      <td>7304.0</td>\n",
       "      <td>10877.0</td>\n",
       "      <td>14943.0</td>\n",
       "      <td>6168.0</td>\n",
       "      <td>39291.0</td>\n",
       "    </tr>\n",
       "    <tr>\n",
       "      <th>...</th>\n",
       "      <td>...</td>\n",
       "      <td>...</td>\n",
       "      <td>...</td>\n",
       "      <td>...</td>\n",
       "      <td>...</td>\n",
       "      <td>...</td>\n",
       "      <td>...</td>\n",
       "      <td>...</td>\n",
       "      <td>...</td>\n",
       "      <td>...</td>\n",
       "      <td>...</td>\n",
       "      <td>...</td>\n",
       "      <td>...</td>\n",
       "      <td>...</td>\n",
       "      <td>...</td>\n",
       "    </tr>\n",
       "    <tr>\n",
       "      <th>2020-08-01</th>\n",
       "      <td>0.24</td>\n",
       "      <td>1.42</td>\n",
       "      <td>0.16</td>\n",
       "      <td>14.4</td>\n",
       "      <td>109.12</td>\n",
       "      <td>82.7</td>\n",
       "      <td>-0.9</td>\n",
       "      <td>71749</td>\n",
       "      <td>NaN</td>\n",
       "      <td>119.4</td>\n",
       "      <td>6259.0</td>\n",
       "      <td>11852.0</td>\n",
       "      <td>14517.0</td>\n",
       "      <td>6495.0</td>\n",
       "      <td>39122.0</td>\n",
       "    </tr>\n",
       "    <tr>\n",
       "      <th>2020-09-01</th>\n",
       "      <td>0.64</td>\n",
       "      <td>2.50</td>\n",
       "      <td>0.16</td>\n",
       "      <td>14.6</td>\n",
       "      <td>106.04</td>\n",
       "      <td>84.1</td>\n",
       "      <td>0.2</td>\n",
       "      <td>73514</td>\n",
       "      <td>NaN</td>\n",
       "      <td>122.3</td>\n",
       "      <td>6667.0</td>\n",
       "      <td>12241.0</td>\n",
       "      <td>14652.0</td>\n",
       "      <td>6668.0</td>\n",
       "      <td>40227.0</td>\n",
       "    </tr>\n",
       "    <tr>\n",
       "      <th>2020-10-01</th>\n",
       "      <td>0.86</td>\n",
       "      <td>3.39</td>\n",
       "      <td>0.16</td>\n",
       "      <td>14.3</td>\n",
       "      <td>113.71</td>\n",
       "      <td>88.0</td>\n",
       "      <td>0.6</td>\n",
       "      <td>74361</td>\n",
       "      <td>NaN</td>\n",
       "      <td>118.4</td>\n",
       "      <td>7286.0</td>\n",
       "      <td>13084.0</td>\n",
       "      <td>15109.0</td>\n",
       "      <td>6947.0</td>\n",
       "      <td>42426.0</td>\n",
       "    </tr>\n",
       "    <tr>\n",
       "      <th>2020-11-01</th>\n",
       "      <td>0.89</td>\n",
       "      <td>2.44</td>\n",
       "      <td>0.15</td>\n",
       "      <td>14.1</td>\n",
       "      <td>110.59</td>\n",
       "      <td>83.4</td>\n",
       "      <td>0.7</td>\n",
       "      <td>75753</td>\n",
       "      <td>NaN</td>\n",
       "      <td>115.9</td>\n",
       "      <td>7104.0</td>\n",
       "      <td>12776.0</td>\n",
       "      <td>14672.0</td>\n",
       "      <td>6434.0</td>\n",
       "      <td>40986.0</td>\n",
       "    </tr>\n",
       "    <tr>\n",
       "      <th>2020-12-01</th>\n",
       "      <td>1.35</td>\n",
       "      <td>1.34</td>\n",
       "      <td>0.16</td>\n",
       "      <td>13.9</td>\n",
       "      <td>113.29</td>\n",
       "      <td>75.9</td>\n",
       "      <td>10.1</td>\n",
       "      <td>76772</td>\n",
       "      <td>NaN</td>\n",
       "      <td>114.0</td>\n",
       "      <td>NaN</td>\n",
       "      <td>NaN</td>\n",
       "      <td>NaN</td>\n",
       "      <td>NaN</td>\n",
       "      <td>NaN</td>\n",
       "    </tr>\n",
       "  </tbody>\n",
       "</table>\n",
       "<p>84 rows × 15 columns</p>\n",
       "</div>"
      ],
      "text/plain": [
       "            ipca  incc   cdi  desocup  energia_index_commodity  \\\n",
       "data                                                             \n",
       "2014-01-01  0.55  0.54  0.84      6.4                    83.66   \n",
       "2014-02-01  0.69  0.62  0.78      6.7                    85.28   \n",
       "2014-03-01  0.92  0.57  0.76      7.2                    81.71   \n",
       "2014-04-01  0.67  0.77  0.82      7.1                    79.89   \n",
       "2014-05-01  0.46  0.57  0.86      7.0                    78.96   \n",
       "...          ...   ...   ...      ...                      ...   \n",
       "2020-08-01  0.24  1.42  0.16     14.4                   109.12   \n",
       "2020-09-01  0.64  2.50  0.16     14.6                   106.04   \n",
       "2020-10-01  0.86  3.39  0.16     14.3                   113.71   \n",
       "2020-11-01  0.89  2.44  0.15     14.1                   110.59   \n",
       "2020-12-01  1.35  1.34  0.16     13.9                   113.29   \n",
       "\n",
       "            index_insumos_da_constr_civil  insumos_da_constr_civil  \\\n",
       "data                                                                 \n",
       "2014-01-01                           92.2                      0.0   \n",
       "2014-02-01                           93.2                     36.6   \n",
       "2014-03-01                           96.8                     40.5   \n",
       "2014-04-01                           94.0                     24.4   \n",
       "2014-05-01                           98.0                     41.0   \n",
       "...                                   ...                      ...   \n",
       "2020-08-01                           82.7                     -0.9   \n",
       "2020-09-01                           84.1                      0.2   \n",
       "2020-10-01                           88.0                      0.6   \n",
       "2020-11-01                           83.4                      0.7   \n",
       "2020-12-01                           75.9                     10.1   \n",
       "\n",
       "            op_de_credito_na_contr_civil  empregos_construcao_civil  \\\n",
       "data                                                                  \n",
       "2014-01-01                        108183                     254.31   \n",
       "2014-02-01                        109148                     256.93   \n",
       "2014-03-01                        110389                     257.05   \n",
       "2014-04-01                        112023                     257.72   \n",
       "2014-05-01                        113985                     258.24   \n",
       "...                                  ...                        ...   \n",
       "2020-08-01                         71749                        NaN   \n",
       "2020-09-01                         73514                        NaN   \n",
       "2020-10-01                         74361                        NaN   \n",
       "2020-11-01                         75753                        NaN   \n",
       "2020-12-01                         76772                        NaN   \n",
       "\n",
       "            gastos_materiais_construcao  consumo_energia_comercial  \\\n",
       "data                                                                 \n",
       "2014-01-01                        101.4                     7745.0   \n",
       "2014-02-01                        105.3                     8204.0   \n",
       "2014-03-01                        101.5                     7744.0   \n",
       "2014-04-01                        100.3                     7588.0   \n",
       "2014-05-01                        100.8                     7304.0   \n",
       "...                                 ...                        ...   \n",
       "2020-08-01                        119.4                     6259.0   \n",
       "2020-09-01                        122.3                     6667.0   \n",
       "2020-10-01                        118.4                     7286.0   \n",
       "2020-11-01                        115.9                     7104.0   \n",
       "2020-12-01                        114.0                        NaN   \n",
       "\n",
       "            consumo_energia_residencial  consumo_energia_industrial  \\\n",
       "data                                                                  \n",
       "2014-01-01                      11798.0                     14537.0   \n",
       "2014-02-01                      11879.0                     15107.0   \n",
       "2014-03-01                      11289.0                     15079.0   \n",
       "2014-04-01                      10780.0                     15260.0   \n",
       "2014-05-01                      10877.0                     14943.0   \n",
       "...                                 ...                         ...   \n",
       "2020-08-01                      11852.0                     14517.0   \n",
       "2020-09-01                      12241.0                     14652.0   \n",
       "2020-10-01                      13084.0                     15109.0   \n",
       "2020-11-01                      12776.0                     14672.0   \n",
       "2020-12-01                          NaN                         NaN   \n",
       "\n",
       "            consumo_energia_outros  consumo_energia_total  \n",
       "data                                                       \n",
       "2014-01-01                  6471.0                40551.0  \n",
       "2014-02-01                  6753.0                41944.0  \n",
       "2014-03-01                  6386.0                40498.0  \n",
       "2014-04-01                  6163.0                39792.0  \n",
       "2014-05-01                  6168.0                39291.0  \n",
       "...                            ...                    ...  \n",
       "2020-08-01                  6495.0                39122.0  \n",
       "2020-09-01                  6668.0                40227.0  \n",
       "2020-10-01                  6947.0                42426.0  \n",
       "2020-11-01                  6434.0                40986.0  \n",
       "2020-12-01                     NaN                    NaN  \n",
       "\n",
       "[84 rows x 15 columns]"
      ]
     },
     "execution_count": 139,
     "metadata": {},
     "output_type": "execute_result"
    }
   ],
   "source": [
    "interest_data"
   ]
  },
  {
   "cell_type": "code",
   "execution_count": 140,
   "id": "senior-cartridge",
   "metadata": {},
   "outputs": [
    {
     "data": {
      "image/png": "[encoded data removed]",
      "text/plain": [
       "<Figure size 1152x576 with 1 Axes>"
      ]
     },
     "metadata": {
      "needs_background": "light"
     },
     "output_type": "display_data"
    }
   ],
   "source": [
    "plt.plot(interest_data)\n",
    "plt.show()"
   ]
  }
 ],
 "metadata": {
  "kernelspec": {
   "display_name": "Python 3",
   "language": "python",
   "name": "python3"
  },
  "language_info": {
   "codemirror_mode": {
    "name": "ipython",
    "version": 3
   },
   "file_extension": ".py",
   "mimetype": "text/x-python",
   "name": "python",
   "nbconvert_exporter": "python",
   "pygments_lexer": "ipython3",
   "version": "3.9.1"
  }
 },
 "nbformat": 4,
 "nbformat_minor": 5
}
