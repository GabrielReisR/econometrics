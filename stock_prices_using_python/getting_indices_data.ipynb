{
 "cells": [
  {
   "cell_type": "markdown",
   "id": "married-lithuania",
   "metadata": {},
   "source": [
    "### Importing initial libraries"
   ]
  },
  {
   "cell_type": "code",
   "execution_count": 4,
   "id": "alert-threshold",
   "metadata": {},
   "outputs": [],
   "source": [
    "import investpy as inv\n",
    "import matplotlib\n",
    "import matplotlib.pyplot as plt\n",
    "matplotlib.rcParams['figure.figsize'] = (16, 8)\n",
    "import pandas as pd\n",
    "%config Completer.use_jedi = False # this speeds up autocomplete"
   ]
  },
  {
   "cell_type": "markdown",
   "id": "superb-chance",
   "metadata": {},
   "source": [
    "### Initial search"
   ]
  },
  {
   "cell_type": "code",
   "execution_count": 5,
   "id": "unable-roberts",
   "metadata": {},
   "outputs": [
    {
     "data": {
      "text/plain": [
       "['MSCI Brazil Net USD',\n",
       " 'DJ Brazil',\n",
       " 'TR Brazil 50',\n",
       " 'MSCI Brazil Price USD',\n",
       " 'DJ Brazil Titans 20 ADR',\n",
       " 'BNY Mellon Brazil ADR',\n",
       " 'BNY Mellon Brazil ADR TR',\n",
       " 'BNY Mellon Brazil Classic ADR',\n",
       " 'BNY Mellon Brazil Classic ADR TR',\n",
       " 'FTSE RAFI Brazil 50',\n",
       " 'MSCI Brazil 10 40',\n",
       " 'DJ BRIC Brazil 15 Capped NTR',\n",
       " 'DJ BRIC Brazil 15 USD',\n",
       " 'DJ BRIC Brazil 15 EUR',\n",
       " 'FTSE Brazil Infrastructure Extended',\n",
       " 'MSCI Brazil Gross',\n",
       " 'DJ Brazil Titans 20 ADR TR',\n",
       " 'MSCI Brazil 25-50 Price',\n",
       " 'MSCI Brazil 20-50 Gross Return',\n",
       " 'MSCI Brazil 25-50 Net Return',\n",
       " 'FTSE Brazil Infrastructure Extended USD PR',\n",
       " 'FTSE Brazil Infrastructure Extended Total Return',\n",
       " 'FTSE Brazil Infrastructure Extended Net Tax Total',\n",
       " 'FTSE Brazil Infrastructure Extended Net Tax USD TR',\n",
       " 'DJ BRIC Brazil 15 DR',\n",
       " 'MSCI Brazil',\n",
       " 'BM&FBOVESPA Unsponsored BDRX',\n",
       " 'Small Cap Index',\n",
       " 'Tag Along',\n",
       " 'Brazil broad-Based',\n",
       " 'Brazil Index',\n",
       " 'Mid-Large Cap Index',\n",
       " 'Public Utilities',\n",
       " 'BM&FBOVESPA Real Estate IFIX',\n",
       " 'Financials',\n",
       " 'Carbon Efficient',\n",
       " 'Corporate Governance IGCNM',\n",
       " 'Bovespa Dividend',\n",
       " 'Brazil 50',\n",
       " 'Corporate Gov Trade',\n",
       " 'FTSE Brazil',\n",
       " 'Ibovespa EUR',\n",
       " 'Ibovespa USD',\n",
       " 'IVBX',\n",
       " 'IGCX',\n",
       " 'Consumption',\n",
       " 'Industrial Sector',\n",
       " 'Electrical Energy',\n",
       " 'Basic Materials',\n",
       " 'Bovespa',\n",
       " 'Corporate Sustainability',\n",
       " 'Real Estate']"
      ]
     },
     "execution_count": 5,
     "metadata": {},
     "output_type": "execute_result"
    }
   ],
   "source": [
    "inv.get_indices_list(country= 'brazil')"
   ]
  },
  {
   "cell_type": "markdown",
   "id": "protective-seating",
   "metadata": {},
   "source": [
    "### Getting Bovespa, IFIX, Electrical Energy, Real Estate, Basic Materials and Industrial Sector"
   ]
  },
  {
   "cell_type": "code",
   "execution_count": 9,
   "id": "express-clerk",
   "metadata": {},
   "outputs": [],
   "source": [
    "# Ibovespa\n",
    "ibov = inv.get_index_historical_data('Bovespa', country = 'brazil',\n",
    "                                    from_date = '01/01/2014', to_date = '31/12/2020',\n",
    "                                    interval = 'Monthly')\n",
    "ibov = ibov[['Close']]"
   ]
  },
  {
   "cell_type": "code",
   "execution_count": 13,
   "id": "dimensional-pricing",
   "metadata": {},
   "outputs": [],
   "source": [
    "# IFIX\n",
    "ifix = inv.get_index_historical_data('BM&FBOVESPA Real Estate IFIX', country = 'brazil',\n",
    "                                    from_date = '01/01/2014', to_date = '31/12/2020',\n",
    "                                    interval = 'Monthly')\n",
    "ifix = ifix[['Close']]"
   ]
  },
  {
   "cell_type": "code",
   "execution_count": 14,
   "id": "cardiac-diving",
   "metadata": {},
   "outputs": [],
   "source": [
    "# Electrical Energy\n",
    "elec_energy = inv.get_index_historical_data('Electrical Energy', country = 'brazil',\n",
    "                                    from_date = '01/01/2014', to_date = '31/12/2020',\n",
    "                                    interval = 'Monthly')\n",
    "elec_energy = elec_energy[['Close']]"
   ]
  },
  {
   "cell_type": "code",
   "execution_count": 16,
   "id": "dependent-mailing",
   "metadata": {},
   "outputs": [],
   "source": [
    "# Real Estate\n",
    "real_estate = inv.get_index_historical_data('Real Estate', country = 'brazil',\n",
    "                                    from_date = '01/01/2014', to_date = '31/12/2020',\n",
    "                                    interval = 'Monthly')\n",
    "real_estate = real_estate[['Close']]"
   ]
  },
  {
   "cell_type": "code",
   "execution_count": 25,
   "id": "capital-upper",
   "metadata": {},
   "outputs": [],
   "source": [
    "# Basic Materials\n",
    "basic_materials = inv.get_index_historical_data('Basic Materials', country = 'brazil',\n",
    "                                    from_date = '01/01/2014', to_date = '31/12/2020',\n",
    "                                    interval = 'Monthly')\n",
    "basic_materials = basic_materials[['Close']]"
   ]
  },
  {
   "cell_type": "code",
   "execution_count": 27,
   "id": "valued-stanley",
   "metadata": {},
   "outputs": [],
   "source": [
    "# Industrial Sector\n",
    "industrial = inv.get_index_historical_data('Industrial Sector', country = 'brazil',\n",
    "                                    from_date = '01/01/2014', to_date = '31/12/2020',\n",
    "                                    interval = 'Monthly')\n",
    "industrial = industrial[['Close']]"
   ]
  },
  {
   "cell_type": "markdown",
   "id": "scientific-russell",
   "metadata": {},
   "source": [
    "### Joining the data"
   ]
  },
  {
   "cell_type": "code",
   "execution_count": 35,
   "id": "arbitrary-compact",
   "metadata": {},
   "outputs": [],
   "source": [
    "indices_data = pd.DataFrame()\n",
    "\n",
    "indices_data['ibov'] = ibov['Close']\n",
    "indices_data['ifix'] = ifix['Close']\n",
    "indices_data['elec_energy'] = elec_energy['Close']\n",
    "indices_data['real_estate'] = real_estate['Close']\n",
    "indices_data['basic_materials'] = basic_materials['Close']\n",
    "indices_data['industrial'] = industrial['Close']"
   ]
  },
  {
   "cell_type": "code",
   "execution_count": 36,
   "id": "honey-salvation",
   "metadata": {},
   "outputs": [
    {
     "data": {
      "text/html": [
       "<div>\n",
       "<style scoped>\n",
       "    .dataframe tbody tr th:only-of-type {\n",
       "        vertical-align: middle;\n",
       "    }\n",
       "\n",
       "    .dataframe tbody tr th {\n",
       "        vertical-align: top;\n",
       "    }\n",
       "\n",
       "    .dataframe thead th {\n",
       "        text-align: right;\n",
       "    }\n",
       "</style>\n",
       "<table border=\"1\" class=\"dataframe\">\n",
       "  <thead>\n",
       "    <tr style=\"text-align: right;\">\n",
       "      <th></th>\n",
       "      <th>ibov</th>\n",
       "      <th>ifix</th>\n",
       "      <th>elec_energy</th>\n",
       "      <th>real_estate</th>\n",
       "      <th>basic_materials</th>\n",
       "      <th>industrial</th>\n",
       "    </tr>\n",
       "    <tr>\n",
       "      <th>Date</th>\n",
       "      <th></th>\n",
       "      <th></th>\n",
       "      <th></th>\n",
       "      <th></th>\n",
       "      <th></th>\n",
       "      <th></th>\n",
       "    </tr>\n",
       "  </thead>\n",
       "  <tbody>\n",
       "    <tr>\n",
       "      <th>2014-01-01</th>\n",
       "      <td>47639.0</td>\n",
       "      <td>1282.04</td>\n",
       "      <td>25207.56</td>\n",
       "      <td>613.34</td>\n",
       "      <td>1826.85</td>\n",
       "      <td>11499.56</td>\n",
       "    </tr>\n",
       "    <tr>\n",
       "      <th>2014-02-01</th>\n",
       "      <td>47094.4</td>\n",
       "      <td>1330.42</td>\n",
       "      <td>23057.55</td>\n",
       "      <td>631.93</td>\n",
       "      <td>1644.58</td>\n",
       "      <td>11164.86</td>\n",
       "    </tr>\n",
       "    <tr>\n",
       "      <th>2014-03-01</th>\n",
       "      <td>50414.9</td>\n",
       "      <td>1336.07</td>\n",
       "      <td>24838.77</td>\n",
       "      <td>667.26</td>\n",
       "      <td>1645.85</td>\n",
       "      <td>11450.31</td>\n",
       "    </tr>\n",
       "    <tr>\n",
       "      <th>2014-04-01</th>\n",
       "      <td>51626.7</td>\n",
       "      <td>1350.76</td>\n",
       "      <td>25845.08</td>\n",
       "      <td>650.97</td>\n",
       "      <td>1512.42</td>\n",
       "      <td>11271.70</td>\n",
       "    </tr>\n",
       "    <tr>\n",
       "      <th>2014-05-01</th>\n",
       "      <td>51239.3</td>\n",
       "      <td>1369.25</td>\n",
       "      <td>26328.72</td>\n",
       "      <td>645.66</td>\n",
       "      <td>1482.96</td>\n",
       "      <td>11191.81</td>\n",
       "    </tr>\n",
       "    <tr>\n",
       "      <th>...</th>\n",
       "      <td>...</td>\n",
       "      <td>...</td>\n",
       "      <td>...</td>\n",
       "      <td>...</td>\n",
       "      <td>...</td>\n",
       "      <td>...</td>\n",
       "    </tr>\n",
       "    <tr>\n",
       "      <th>2020-08-01</th>\n",
       "      <td>99369.2</td>\n",
       "      <td>2782.10</td>\n",
       "      <td>71966.61</td>\n",
       "      <td>962.80</td>\n",
       "      <td>4023.79</td>\n",
       "      <td>19864.94</td>\n",
       "    </tr>\n",
       "    <tr>\n",
       "      <th>2020-09-01</th>\n",
       "      <td>94603.4</td>\n",
       "      <td>2794.88</td>\n",
       "      <td>68569.31</td>\n",
       "      <td>885.71</td>\n",
       "      <td>4044.75</td>\n",
       "      <td>19513.57</td>\n",
       "    </tr>\n",
       "    <tr>\n",
       "      <th>2020-10-01</th>\n",
       "      <td>93952.4</td>\n",
       "      <td>2766.76</td>\n",
       "      <td>69951.35</td>\n",
       "      <td>863.71</td>\n",
       "      <td>4316.32</td>\n",
       "      <td>19822.50</td>\n",
       "    </tr>\n",
       "    <tr>\n",
       "      <th>2020-11-01</th>\n",
       "      <td>108893.3</td>\n",
       "      <td>2808.56</td>\n",
       "      <td>77283.13</td>\n",
       "      <td>1005.95</td>\n",
       "      <td>4921.07</td>\n",
       "      <td>21867.76</td>\n",
       "    </tr>\n",
       "    <tr>\n",
       "      <th>2020-12-01</th>\n",
       "      <td>119017.2</td>\n",
       "      <td>2870.15</td>\n",
       "      <td>82845.94</td>\n",
       "      <td>1051.82</td>\n",
       "      <td>5437.61</td>\n",
       "      <td>23390.13</td>\n",
       "    </tr>\n",
       "  </tbody>\n",
       "</table>\n",
       "<p>84 rows × 6 columns</p>\n",
       "</div>"
      ],
      "text/plain": [
       "                ibov     ifix  elec_energy  real_estate  basic_materials  \\\n",
       "Date                                                                       \n",
       "2014-01-01   47639.0  1282.04     25207.56       613.34          1826.85   \n",
       "2014-02-01   47094.4  1330.42     23057.55       631.93          1644.58   \n",
       "2014-03-01   50414.9  1336.07     24838.77       667.26          1645.85   \n",
       "2014-04-01   51626.7  1350.76     25845.08       650.97          1512.42   \n",
       "2014-05-01   51239.3  1369.25     26328.72       645.66          1482.96   \n",
       "...              ...      ...          ...          ...              ...   \n",
       "2020-08-01   99369.2  2782.10     71966.61       962.80          4023.79   \n",
       "2020-09-01   94603.4  2794.88     68569.31       885.71          4044.75   \n",
       "2020-10-01   93952.4  2766.76     69951.35       863.71          4316.32   \n",
       "2020-11-01  108893.3  2808.56     77283.13      1005.95          4921.07   \n",
       "2020-12-01  119017.2  2870.15     82845.94      1051.82          5437.61   \n",
       "\n",
       "            industrial  \n",
       "Date                    \n",
       "2014-01-01    11499.56  \n",
       "2014-02-01    11164.86  \n",
       "2014-03-01    11450.31  \n",
       "2014-04-01    11271.70  \n",
       "2014-05-01    11191.81  \n",
       "...                ...  \n",
       "2020-08-01    19864.94  \n",
       "2020-09-01    19513.57  \n",
       "2020-10-01    19822.50  \n",
       "2020-11-01    21867.76  \n",
       "2020-12-01    23390.13  \n",
       "\n",
       "[84 rows x 6 columns]"
      ]
     },
     "execution_count": 36,
     "metadata": {},
     "output_type": "execute_result"
    }
   ],
   "source": [
    "indices_data"
   ]
  },
  {
   "cell_type": "code",
   "execution_count": 37,
   "id": "included-thomson",
   "metadata": {},
   "outputs": [
    {
     "data": {
      "image/png": "[encoded data removed]",
      "text/plain": [
       "<Figure size 1152x576 with 1 Axes>"
      ]
     },
     "metadata": {
      "needs_background": "light"
     },
     "output_type": "display_data"
    }
   ],
   "source": [
    "plt.plot(indices_data)\n",
    "plt.show()"
   ]
  }
 ],
 "metadata": {
  "kernelspec": {
   "display_name": "Python 3",
   "language": "python",
   "name": "python3"
  },
  "language_info": {
   "codemirror_mode": {
    "name": "ipython",
    "version": 3
   },
   "file_extension": ".py",
   "mimetype": "text/x-python",
   "name": "python",
   "nbconvert_exporter": "python",
   "pygments_lexer": "ipython3",
   "version": "3.9.1"
  }
 },
 "nbformat": 4,
 "nbformat_minor": 5
}
